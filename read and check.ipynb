{
 "cells": [
  {
   "cell_type": "code",
   "execution_count": 2,
   "id": "e657a6ca-7f4e-414d-88b9-52c3dda4aab2",
   "metadata": {},
   "outputs": [],
   "source": [
    "from datasets import load_from_disk\n",
    "dataset = load_from_disk(\"doubao_datasets\")"
   ]
  },
  {
   "cell_type": "code",
   "execution_count": 3,
   "id": "85b467a4-abff-4cad-8fa3-3d767d730599",
   "metadata": {},
   "outputs": [
    {
     "data": {
      "text/plain": [
       "DatasetDict({\n",
       "    train: Dataset({\n",
       "        features: ['prompt', 'code', 'model_answer'],\n",
       "        num_rows: 18612\n",
       "    })\n",
       "})"
      ]
     },
     "execution_count": 3,
     "metadata": {},
     "output_type": "execute_result"
    }
   ],
   "source": [
    "dataset "
   ]
  },
  {
   "cell_type": "code",
   "execution_count": 5,
   "id": "4840833f-237a-427a-89e4-5855bda02330",
   "metadata": {},
   "outputs": [
    {
     "data": {
      "text/plain": [
       "Dataset({\n",
       "    features: ['prompt', 'code', 'model_answer'],\n",
       "    num_rows: 18612\n",
       "})"
      ]
     },
     "execution_count": 5,
     "metadata": {},
     "output_type": "execute_result"
    }
   ],
   "source": [
    "dataset ['train']"
   ]
  },
  {
   "cell_type": "code",
   "execution_count": null,
   "id": "be6b50d4-3eb2-43ec-8faf-386bebeb0941",
   "metadata": {},
   "outputs": [],
   "source": [
    "import numpy as np\n",
    "df = dataset['train']['model_answer']\n",
    "null_check =np.isnan(df).any(axis=0)\n",
    "print(null_check)"
   ]
  },
  {
   "cell_type": "code",
   "execution_count": null,
   "id": "95314da3-98d9-4420-9010-f93d003449a2",
   "metadata": {},
   "outputs": [],
   "source": []
  }
 ],
 "metadata": {
  "kernelspec": {
   "display_name": "Python 3 (ipykernel)",
   "language": "python",
   "name": "python3"
  },
  "language_info": {
   "codemirror_mode": {
    "name": "ipython",
    "version": 3
   },
   "file_extension": ".py",
   "mimetype": "text/x-python",
   "name": "python",
   "nbconvert_exporter": "python",
   "pygments_lexer": "ipython3",
   "version": "3.12.3"
  }
 },
 "nbformat": 4,
 "nbformat_minor": 5
}
